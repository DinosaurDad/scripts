{
 "metadata": {
  "name": "",
  "signature": "sha256:57f97a2f188984703e6d22fa562b709a9ae8ac7d831c91c511cddfe8f825dae1"
 },
 "nbformat": 3,
 "nbformat_minor": 0,
 "worksheets": [
  {
   "cells": [
    {
     "cell_type": "markdown",
     "metadata": {},
     "source": [
      "# Blood pressure"
     ]
    },
    {
     "cell_type": "code",
     "collapsed": false,
     "input": [
      "import matplotlib.pyplot as plt\n",
      "import numpy as np\n",
      "import pandas as pd\n",
      "import scipy.stats as st\n",
      "import seaborn as sns\n",
      "\n",
      "%matplotlib inline"
     ],
     "language": "python",
     "metadata": {},
     "outputs": [
      {
       "output_type": "stream",
       "stream": "stderr",
       "text": [
        "/usr/lib/python2.7/dist-packages/matplotlib/__init__.py:874: UserWarning: axes.color_cycle is deprecated and replaced with axes.prop_cycle; please use the latter.\n",
        "  warnings.warn(self.msg_depr % (key, alt_key))\n"
       ]
      }
     ],
     "prompt_number": 1
    },
    {
     "cell_type": "markdown",
     "metadata": {},
     "source": [
      "Here is a simple function to return a 95% (by default) confidence interval for a t distribution."
     ]
    },
    {
     "cell_type": "code",
     "collapsed": false,
     "input": [
      "def t_confint(data, alpha=0.95):\n",
      "    n = len(data)\n",
      "    x_bar = np.mean(data)\n",
      "    se = np.std(data, ddof=1)\n",
      "    return st.t.interval(alpha, n-1, loc=x_bar, scale=se/np.sqrt(n))"
     ],
     "language": "python",
     "metadata": {},
     "outputs": [],
     "prompt_number": 2
    },
    {
     "cell_type": "markdown",
     "metadata": {},
     "source": [
      "## User data"
     ]
    },
    {
     "cell_type": "code",
     "collapsed": false,
     "input": [
      "blood_pressure = {'max': [165, 132, 165, 137, 126, 128, 129, 141, 142, 137],\n",
      "                  'min': [101, 79, 101, 95, 92, 93, 92, 83, 89, 93],\n",
      "                  'pul': [110, 87, 117, 92, 101, 101, 105, 103, 104, 107]}"
     ],
     "language": "python",
     "metadata": {},
     "outputs": [],
     "prompt_number": 3
    },
    {
     "cell_type": "code",
     "collapsed": false,
     "input": [
      "blood_pressure_df = pd.DataFrame(blood_pressure); blood_pressure_df.transpose()"
     ],
     "language": "python",
     "metadata": {},
     "outputs": [
      {
       "html": [
        "<div style=\"max-width:1500px;overflow:auto;\">\n",
        "<table border=\"1\" class=\"dataframe\">\n",
        "  <thead>\n",
        "    <tr style=\"text-align: right;\">\n",
        "      <th></th>\n",
        "      <th>0</th>\n",
        "      <th>1</th>\n",
        "      <th>2</th>\n",
        "      <th>3</th>\n",
        "      <th>4</th>\n",
        "      <th>5</th>\n",
        "      <th>6</th>\n",
        "      <th>7</th>\n",
        "      <th>8</th>\n",
        "      <th>9</th>\n",
        "    </tr>\n",
        "  </thead>\n",
        "  <tbody>\n",
        "    <tr>\n",
        "      <th>max</th>\n",
        "      <td>165</td>\n",
        "      <td>132</td>\n",
        "      <td>165</td>\n",
        "      <td>137</td>\n",
        "      <td>126</td>\n",
        "      <td>128</td>\n",
        "      <td>129</td>\n",
        "      <td>141</td>\n",
        "      <td>142</td>\n",
        "      <td>137</td>\n",
        "    </tr>\n",
        "    <tr>\n",
        "      <th>min</th>\n",
        "      <td>101</td>\n",
        "      <td>79</td>\n",
        "      <td>101</td>\n",
        "      <td>95</td>\n",
        "      <td>92</td>\n",
        "      <td>93</td>\n",
        "      <td>92</td>\n",
        "      <td>83</td>\n",
        "      <td>89</td>\n",
        "      <td>93</td>\n",
        "    </tr>\n",
        "    <tr>\n",
        "      <th>pul</th>\n",
        "      <td>110</td>\n",
        "      <td>87</td>\n",
        "      <td>117</td>\n",
        "      <td>92</td>\n",
        "      <td>101</td>\n",
        "      <td>101</td>\n",
        "      <td>105</td>\n",
        "      <td>103</td>\n",
        "      <td>104</td>\n",
        "      <td>107</td>\n",
        "    </tr>\n",
        "  </tbody>\n",
        "</table>\n",
        "</div>"
       ],
       "metadata": {},
       "output_type": "pyout",
       "prompt_number": 4,
       "text": [
        "       0    1    2    3    4    5    6    7    8    9\n",
        "max  165  132  165  137  126  128  129  141  142  137\n",
        "min  101   79  101   95   92   93   92   83   89   93\n",
        "pul  110   87  117   92  101  101  105  103  104  107"
       ]
      }
     ],
     "prompt_number": 4
    },
    {
     "cell_type": "code",
     "collapsed": false,
     "input": [
      "blood_pressure_df.describe().transpose()"
     ],
     "language": "python",
     "metadata": {},
     "outputs": [
      {
       "html": [
        "<div style=\"max-width:1500px;overflow:auto;\">\n",
        "<table border=\"1\" class=\"dataframe\">\n",
        "  <thead>\n",
        "    <tr style=\"text-align: right;\">\n",
        "      <th></th>\n",
        "      <th>count</th>\n",
        "      <th>mean</th>\n",
        "      <th>std</th>\n",
        "      <th>min</th>\n",
        "      <th>25%</th>\n",
        "      <th>50%</th>\n",
        "      <th>75%</th>\n",
        "      <th>max</th>\n",
        "    </tr>\n",
        "  </thead>\n",
        "  <tbody>\n",
        "    <tr>\n",
        "      <th>max</th>\n",
        "      <td>10</td>\n",
        "      <td>140.2</td>\n",
        "      <td>14.132704</td>\n",
        "      <td>126</td>\n",
        "      <td>129.75</td>\n",
        "      <td>137.0</td>\n",
        "      <td>141.75</td>\n",
        "      <td>165</td>\n",
        "    </tr>\n",
        "    <tr>\n",
        "      <th>min</th>\n",
        "      <td>10</td>\n",
        "      <td>91.8</td>\n",
        "      <td>6.924995</td>\n",
        "      <td>79</td>\n",
        "      <td>89.75</td>\n",
        "      <td>92.5</td>\n",
        "      <td>94.50</td>\n",
        "      <td>101</td>\n",
        "    </tr>\n",
        "    <tr>\n",
        "      <th>pul</th>\n",
        "      <td>10</td>\n",
        "      <td>102.7</td>\n",
        "      <td>8.499020</td>\n",
        "      <td>87</td>\n",
        "      <td>101.00</td>\n",
        "      <td>103.5</td>\n",
        "      <td>106.50</td>\n",
        "      <td>117</td>\n",
        "    </tr>\n",
        "  </tbody>\n",
        "</table>\n",
        "</div>"
       ],
       "metadata": {},
       "output_type": "pyout",
       "prompt_number": 5,
       "text": [
        "     count   mean        std  min     25%    50%     75%  max\n",
        "max     10  140.2  14.132704  126  129.75  137.0  141.75  165\n",
        "min     10   91.8   6.924995   79   89.75   92.5   94.50  101\n",
        "pul     10  102.7   8.499020   87  101.00  103.5  106.50  117"
       ]
      }
     ],
     "prompt_number": 5
    },
    {
     "cell_type": "markdown",
     "metadata": {},
     "source": [
      "## Hypothesis test"
     ]
    },
    {
     "cell_type": "code",
     "collapsed": false,
     "input": [
      "max_test = st.ttest_1samp(blood_pressure_df['max'], popmean=120)\n",
      "min_test = st.ttest_1samp(blood_pressure_df['min'], popmean=80)\n",
      "pul_test = st.ttest_1samp(blood_pressure_df['pul'], popmean=60)"
     ],
     "language": "python",
     "metadata": {},
     "outputs": [],
     "prompt_number": 6
    },
    {
     "cell_type": "code",
     "collapsed": false,
     "input": [
      "print \"%.4f, %.4f, %.4f\" % (max_test.pvalue, min_test.pvalue, pul_test.pvalue)"
     ],
     "language": "python",
     "metadata": {},
     "outputs": [
      {
       "output_type": "stream",
       "stream": "stdout",
       "text": [
        "0.0014, 0.0004, 0.0000\n"
       ]
      }
     ],
     "prompt_number": 7
    },
    {
     "cell_type": "markdown",
     "metadata": {},
     "source": [
      "## Confidence Intervals"
     ]
    },
    {
     "cell_type": "code",
     "collapsed": false,
     "input": [
      "max_confint = t_confint(blood_pressure_df['max'], alpha=0.95)\n",
      "min_confint = t_confint(blood_pressure_df['min'], alpha=0.95)\n",
      "pul_confint = t_confint(blood_pressure_df['pul'], alpha=0.95)"
     ],
     "language": "python",
     "metadata": {},
     "outputs": [],
     "prompt_number": 8
    },
    {
     "cell_type": "code",
     "collapsed": false,
     "input": [
      "print 'Interval for the max:', max_confint\n",
      "print 'Interval for the min:', min_confint\n",
      "print 'Interval for pulse:', pul_confint"
     ],
     "language": "python",
     "metadata": {},
     "outputs": [
      {
       "output_type": "stream",
       "stream": "stdout",
       "text": [
        "Interval for the max: (130.09007231588495, 150.30992768411502)\n",
        "Interval for the min: (86.846157013107387, 96.753842986892607)\n",
        "Interval for pulse: (96.620167670153563, 108.77983232984644)\n"
       ]
      }
     ],
     "prompt_number": 9
    },
    {
     "cell_type": "markdown",
     "metadata": {},
     "source": [
      "## Histograms and (estimated) probability density"
     ]
    },
    {
     "cell_type": "code",
     "collapsed": false,
     "input": [
      "_, axs = plt.subplots(figsize=(18,6), ncols=3, nrows=1)\n",
      "\n",
      "sns.distplot(blood_pressure_df['max'], ax=axs[0])\n",
      "sns.distplot(blood_pressure_df['min'], ax=axs[1])\n",
      "sns.distplot(blood_pressure_df['pul'], ax=axs[2])"
     ],
     "language": "python",
     "metadata": {},
     "outputs": [
      {
       "metadata": {},
       "output_type": "pyout",
       "prompt_number": 10,
       "text": [
        "<matplotlib.axes._subplots.AxesSubplot at 0x7ff3904e4310>"
       ]
      },
      {
       "metadata": {},
       "output_type": "display_data",
       "png": "[encoded data removed]",
       "text": [
        "<matplotlib.figure.Figure at 0x7ff39086fc10>"
       ]
      }
     ],
     "prompt_number": 10
    }
   ],
   "metadata": {}
  }
 ]
}