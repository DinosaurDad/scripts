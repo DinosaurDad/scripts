{
 "metadata": {
  "name": "",
  "signature": "sha256:3947be85aa86a0009bbe2d6e56305384741ed7aff6c79803eb7fb9c8266be9aa"
 },
 "nbformat": 3,
 "nbformat_minor": 0,
 "worksheets": [
  {
   "cells": [
    {
     "cell_type": "markdown",
     "metadata": {},
     "source": [
      "# Blood pressure"
     ]
    },
    {
     "cell_type": "code",
     "collapsed": false,
     "input": [
      "import matplotlib.pyplot as plt\n",
      "import numpy as np\n",
      "import pandas as pd\n",
      "import scipy.stats as st\n",
      "import seaborn as sns\n",
      "\n",
      "%matplotlib inline"
     ],
     "language": "python",
     "metadata": {},
     "outputs": [
      {
       "output_type": "stream",
       "stream": "stderr",
       "text": [
        "/usr/lib/python2.7/dist-packages/matplotlib/__init__.py:874: UserWarning: axes.color_cycle is deprecated and replaced with axes.prop_cycle; please use the latter.\n",
        "  warnings.warn(self.msg_depr % (key, alt_key))\n"
       ]
      }
     ],
     "prompt_number": 1
    },
    {
     "cell_type": "markdown",
     "metadata": {},
     "source": [
      "Here is a simple function to return a 95% (by default) confidence interval for a t distribution."
     ]
    },
    {
     "cell_type": "code",
     "collapsed": false,
     "input": [
      "def t_confint(data, alpha=0.95):\n",
      "    n = len(data)\n",
      "    x_bar = np.mean(data)\n",
      "    se = np.std(data, ddof=1)\n",
      "    return st.t.interval(alpha, n-1, loc=x_bar, scale=se/np.sqrt(n))"
     ],
     "language": "python",
     "metadata": {},
     "outputs": [],
     "prompt_number": 2
    },
    {
     "cell_type": "markdown",
     "metadata": {},
     "source": [
      "## User data"
     ]
    },
    {
     "cell_type": "code",
     "collapsed": false,
     "input": [
      "blood_pressure = {'max': [146, 141, 133, 129, 133, 166, 136, 141, 144, 135, 136],\n",
      "                  'min': [94, 92, 93, 93, 97, 105, 96, 103, 98, 103, 100],\n",
      "                  'pul': [114, 111, 108, 99, 108, 110, 98, 108, 105, 110, 107]}"
     ],
     "language": "python",
     "metadata": {},
     "outputs": [],
     "prompt_number": 3
    },
    {
     "cell_type": "code",
     "collapsed": false,
     "input": [
      "blood_pressure_df = pd.DataFrame(blood_pressure); blood_pressure_df.transpose()"
     ],
     "language": "python",
     "metadata": {},
     "outputs": [
      {
       "html": [
        "<div style=\"max-width:1500px;overflow:auto;\">\n",
        "<table border=\"1\" class=\"dataframe\">\n",
        "  <thead>\n",
        "    <tr style=\"text-align: right;\">\n",
        "      <th></th>\n",
        "      <th>0</th>\n",
        "      <th>1</th>\n",
        "      <th>2</th>\n",
        "      <th>3</th>\n",
        "      <th>4</th>\n",
        "      <th>5</th>\n",
        "      <th>6</th>\n",
        "      <th>7</th>\n",
        "      <th>8</th>\n",
        "      <th>9</th>\n",
        "      <th>10</th>\n",
        "    </tr>\n",
        "  </thead>\n",
        "  <tbody>\n",
        "    <tr>\n",
        "      <th>max</th>\n",
        "      <td>146</td>\n",
        "      <td>141</td>\n",
        "      <td>133</td>\n",
        "      <td>129</td>\n",
        "      <td>133</td>\n",
        "      <td>166</td>\n",
        "      <td>136</td>\n",
        "      <td>141</td>\n",
        "      <td>144</td>\n",
        "      <td>135</td>\n",
        "      <td>136</td>\n",
        "    </tr>\n",
        "    <tr>\n",
        "      <th>min</th>\n",
        "      <td>94</td>\n",
        "      <td>92</td>\n",
        "      <td>93</td>\n",
        "      <td>93</td>\n",
        "      <td>97</td>\n",
        "      <td>105</td>\n",
        "      <td>96</td>\n",
        "      <td>103</td>\n",
        "      <td>98</td>\n",
        "      <td>103</td>\n",
        "      <td>100</td>\n",
        "    </tr>\n",
        "    <tr>\n",
        "      <th>pul</th>\n",
        "      <td>114</td>\n",
        "      <td>111</td>\n",
        "      <td>108</td>\n",
        "      <td>99</td>\n",
        "      <td>108</td>\n",
        "      <td>110</td>\n",
        "      <td>98</td>\n",
        "      <td>108</td>\n",
        "      <td>105</td>\n",
        "      <td>110</td>\n",
        "      <td>107</td>\n",
        "    </tr>\n",
        "  </tbody>\n",
        "</table>\n",
        "</div>"
       ],
       "metadata": {},
       "output_type": "pyout",
       "prompt_number": 4,
       "text": [
        "      0    1    2    3    4    5    6    7    8    9    10\n",
        "max  146  141  133  129  133  166  136  141  144  135  136\n",
        "min   94   92   93   93   97  105   96  103   98  103  100\n",
        "pul  114  111  108   99  108  110   98  108  105  110  107"
       ]
      }
     ],
     "prompt_number": 4
    },
    {
     "cell_type": "code",
     "collapsed": false,
     "input": [
      "blood_pressure_df.describe().transpose()"
     ],
     "language": "python",
     "metadata": {},
     "outputs": [
      {
       "html": [
        "<div style=\"max-width:1500px;overflow:auto;\">\n",
        "<table border=\"1\" class=\"dataframe\">\n",
        "  <thead>\n",
        "    <tr style=\"text-align: right;\">\n",
        "      <th></th>\n",
        "      <th>count</th>\n",
        "      <th>mean</th>\n",
        "      <th>std</th>\n",
        "      <th>min</th>\n",
        "      <th>25%</th>\n",
        "      <th>50%</th>\n",
        "      <th>75%</th>\n",
        "      <th>max</th>\n",
        "    </tr>\n",
        "  </thead>\n",
        "  <tbody>\n",
        "    <tr>\n",
        "      <th>max</th>\n",
        "      <td>11</td>\n",
        "      <td>140.000000</td>\n",
        "      <td>10.029955</td>\n",
        "      <td>129</td>\n",
        "      <td>134.0</td>\n",
        "      <td>136</td>\n",
        "      <td>142.5</td>\n",
        "      <td>166</td>\n",
        "    </tr>\n",
        "    <tr>\n",
        "      <th>min</th>\n",
        "      <td>11</td>\n",
        "      <td>97.636364</td>\n",
        "      <td>4.566678</td>\n",
        "      <td>92</td>\n",
        "      <td>93.5</td>\n",
        "      <td>97</td>\n",
        "      <td>101.5</td>\n",
        "      <td>105</td>\n",
        "    </tr>\n",
        "    <tr>\n",
        "      <th>pul</th>\n",
        "      <td>11</td>\n",
        "      <td>107.090909</td>\n",
        "      <td>4.846742</td>\n",
        "      <td>98</td>\n",
        "      <td>106.0</td>\n",
        "      <td>108</td>\n",
        "      <td>110.0</td>\n",
        "      <td>114</td>\n",
        "    </tr>\n",
        "  </tbody>\n",
        "</table>\n",
        "</div>"
       ],
       "metadata": {},
       "output_type": "pyout",
       "prompt_number": 5,
       "text": [
        "     count        mean        std  min    25%  50%    75%  max\n",
        "max     11  140.000000  10.029955  129  134.0  136  142.5  166\n",
        "min     11   97.636364   4.566678   92   93.5   97  101.5  105\n",
        "pul     11  107.090909   4.846742   98  106.0  108  110.0  114"
       ]
      }
     ],
     "prompt_number": 5
    },
    {
     "cell_type": "markdown",
     "metadata": {},
     "source": [
      "## Hypothesis test"
     ]
    },
    {
     "cell_type": "code",
     "collapsed": false,
     "input": [
      "max_test = st.ttest_1samp(blood_pressure_df['max'], popmean=120)\n",
      "min_test = st.ttest_1samp(blood_pressure_df['min'], popmean=80)\n",
      "pul_test = st.ttest_1samp(blood_pressure_df['pul'], popmean=60)"
     ],
     "language": "python",
     "metadata": {},
     "outputs": [],
     "prompt_number": 6
    },
    {
     "cell_type": "code",
     "collapsed": false,
     "input": [
      "print \"%.4f, %.4f, %.4f\" % (max_test.pvalue, min_test.pvalue, pul_test.pvalue)"
     ],
     "language": "python",
     "metadata": {},
     "outputs": [
      {
       "output_type": "stream",
       "stream": "stdout",
       "text": [
        "0.0001, 0.0000, 0.0000\n"
       ]
      }
     ],
     "prompt_number": 7
    },
    {
     "cell_type": "markdown",
     "metadata": {},
     "source": [
      "## Confidence Intervals"
     ]
    },
    {
     "cell_type": "code",
     "collapsed": false,
     "input": [
      "max_confint = t_confint(blood_pressure_df['max'], alpha=0.95)\n",
      "min_confint = t_confint(blood_pressure_df['min'], alpha=0.95)\n",
      "pul_confint = t_confint(blood_pressure_df['pul'], alpha=0.95)"
     ],
     "language": "python",
     "metadata": {},
     "outputs": [],
     "prompt_number": 8
    },
    {
     "cell_type": "code",
     "collapsed": false,
     "input": [
      "print 'Interval for the max:', max_confint\n",
      "print 'Interval for the min:', min_confint\n",
      "print 'Interval for pulse:', pul_confint"
     ],
     "language": "python",
     "metadata": {},
     "outputs": [
      {
       "output_type": "stream",
       "stream": "stdout",
       "text": [
        "Interval for the max: (133.26178445520191, 146.73821554479809)\n",
        "Interval for the min: (94.568427795193344, 100.70429947753394)\n",
        "Interval for pulse: (103.83482343585942, 110.34699474595877)\n"
       ]
      }
     ],
     "prompt_number": 9
    },
    {
     "cell_type": "markdown",
     "metadata": {},
     "source": [
      "## Histograms and (estimated) probability density"
     ]
    },
    {
     "cell_type": "code",
     "collapsed": false,
     "input": [
      "_, axs = plt.subplots(figsize=(18,6), ncols=3, nrows=1)\n",
      "\n",
      "sns.distplot(blood_pressure_df['max'], ax=axs[0])\n",
      "sns.distplot(blood_pressure_df['min'], ax=axs[1])\n",
      "sns.distplot(blood_pressure_df['pul'], ax=axs[2])"
     ],
     "language": "python",
     "metadata": {},
     "outputs": [
      {
       "metadata": {},
       "output_type": "pyout",
       "prompt_number": 10,
       "text": [
        "<matplotlib.axes._subplots.AxesSubplot at 0x7f89e0e48310>"
       ]
      },
      {
       "metadata": {},
       "output_type": "display_data",
       "png": "[encoded data removed]",
       "text": [
        "<matplotlib.figure.Figure at 0x7f89e11bac50>"
       ]
      }
     ],
     "prompt_number": 10
    }
   ],
   "metadata": {}
  }
 ]
}